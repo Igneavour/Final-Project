{
 "cells": [
  {
   "cell_type": "markdown",
   "id": "61e3195d",
   "metadata": {},
   "source": [
    "# Essential library imports"
   ]
  },
  {
   "cell_type": "code",
   "execution_count": 25,
   "id": "52125af1",
   "metadata": {},
   "outputs": [
    {
     "name": "stdout",
     "output_type": "stream",
     "text": [
      "The autoreload extension is already loaded. To reload it, use:\n",
      "  %reload_ext autoreload\n"
     ]
    }
   ],
   "source": [
    "import numpy as np\n",
    "import pandas as pd \n",
    "import matplotlib.pyplot as plt \n",
    "import seaborn as sns \n",
    "import tensorflow as tf\n",
    "%load_ext autoreload\n",
    "%autoreload 2\n",
    "from Models import MLP,CNN,self_LSTM,SVM"
   ]
  },
  {
   "cell_type": "markdown",
   "id": "b1bccbf2",
   "metadata": {},
   "source": [
    "# Data Preprocessing\n",
    "\n",
    "Due to the huge size of the CSE-CIC-IDS2018 datasets collectively, only a portion of the entire dataset will be used. Specific files are selected for every attack vectors made known on the source."
   ]
  },
  {
   "cell_type": "markdown",
   "id": "35692278",
   "metadata": {},
   "source": [
    "## Data Preprocessing functions"
   ]
  },
  {
   "cell_type": "code",
   "execution_count": 2,
   "id": "f113ada3",
   "metadata": {},
   "outputs": [],
   "source": [
    "def encode_labels(label):\n",
    "    # Benign network traffic\n",
    "    if label==\"Benign\":\n",
    "        return 0\n",
    "    # Bruteforce attack\n",
    "    elif \"Bruteforce\" in label or \"BruteForce\" in label:\n",
    "        return 1 \n",
    "    # DoS attack\n",
    "    elif \"Hulk\" in label or \"GoldenEye\" in label or \"Slowloris\" in label or \"SlowHTTPTest\" in label:\n",
    "        return 2 \n",
    "    # Web attack\n",
    "    elif \"Web\" in label or \"XSS\" in label or \"SQL\" in label:\n",
    "        return 3 \n",
    "    # Infiltration attack\n",
    "    elif \"Infilteration\" in label:\n",
    "        return 4 \n",
    "    # Botnet attack\n",
    "    elif \"Bot\" in label:\n",
    "        return 5  \n",
    "    # DDoS attack\n",
    "    elif \"DDoS\" in label or \"DDOS\":\n",
    "        return 6 "
   ]
  },
  {
   "cell_type": "code",
   "execution_count": 3,
   "id": "8dadf7b3",
   "metadata": {},
   "outputs": [],
   "source": [
    "def process_data(df):\n",
    "    # Dropping all unnecessary columns\n",
    "    df = df.drop(\"Dst Port\", axis = 1)\n",
    "    df = df.drop(\"Timestamp\", axis = 1)\n",
    "    \n",
    "    # Drop any rows with \"Infinity\" values or labels with the value \"Label\"\n",
    "    df = df.drop(df[df.eq(\"Infinity\").any(1)].index,axis=0)\n",
    "    df = df.drop(df[df.eq(\"Label\").any(1)].index,axis=0)\n",
    "    \n",
    "    # Percentage of missing data\n",
    "    print(\"Percentage of Missing Data:\",round(df.isnull().sum().sum()/len(df)*100,3),\"% removed\")\n",
    "    df = df.dropna()\n",
    "\n",
    "    # Percent of duplicated data\n",
    "    print(\"Percentage of Duplicated Data:\", round(len(df[df.duplicated()])/len(df)*100,2),\"% removed\")\n",
    "    df = df.drop_duplicates()\n",
    "\n",
    "    # One-hot encoding the protocol feature \n",
    "    df['Protocol'] = df['Protocol'].astype(int)\n",
    "    dum_df = pd.get_dummies(df[\"Protocol\"],prefix=\"prot_\")\n",
    "    df = df.drop([\"Protocol\"],axis=1)\n",
    "    df = pd.concat([df,dum_df],axis=1) \n",
    "    \n",
    "    df[\"vector\"] = np.vectorize(encode_labels)(df[\"Label\"])\n",
    "    df = df.drop(\"Label\", axis = 1)\n",
    "\n",
    "    return df "
   ]
  },
  {
   "cell_type": "markdown",
   "id": "5005be98",
   "metadata": {},
   "source": [
    "## Label types/attack vectors\n",
    "\n",
    "To prepare and clean the dataset to be suitable for training and testing neural networks, the labels will be encoded numerically. The list below shows the conversion of every labels:"
   ]
  },
  {
   "cell_type": "markdown",
   "id": "98b3149e",
   "metadata": {},
   "source": [
    "<ul>\n",
    "    <li>0 - Benign</li>\n",
    "    <li>1 - Bruteforce attack</li>\n",
    "    <li>2 - DoS attack</li>\n",
    "    <li>3 - Web attack</li>\n",
    "    <li>4 - Infiltration attack</li>\n",
    "    <li>5 - Botnet attack</li>\n",
    "    <li>6 - DDoS attack</li>\n",
    "</ul>"
   ]
  },
  {
   "cell_type": "markdown",
   "id": "06301641",
   "metadata": {},
   "source": [
    "## Preprocessing process\n",
    "\n",
    "The CSE-CICIDS2018 dataset was generated in batches spanning over a period of about 2 weeks. Each day, a dataset was generated with a different attack vector filled with benign network traffic. In this section, the attack vectors were extracted from their respective datasets."
   ]
  },
  {
   "cell_type": "markdown",
   "id": "dbbab369",
   "metadata": {},
   "source": [
    "### Brute-force attacking"
   ]
  },
  {
   "cell_type": "code",
   "execution_count": 4,
   "id": "881255ef",
   "metadata": {},
   "outputs": [],
   "source": [
    "bruteforce = pd.read_csv(\"cse-cic-ids2018-datasets/02-14-2018.csv\")"
   ]
  },
  {
   "cell_type": "code",
   "execution_count": 5,
   "id": "63b93537",
   "metadata": {},
   "outputs": [
    {
     "data": {
      "text/plain": [
       "Benign            667626\n",
       "FTP-BruteForce    193360\n",
       "SSH-Bruteforce    187589\n",
       "Name: Label, dtype: int64"
      ]
     },
     "execution_count": 5,
     "metadata": {},
     "output_type": "execute_result"
    }
   ],
   "source": [
    "bruteforce['Label'].value_counts()"
   ]
  },
  {
   "cell_type": "code",
   "execution_count": 6,
   "id": "f6a4f37e",
   "metadata": {
    "scrolled": true
   },
   "outputs": [
    {
     "name": "stdout",
     "output_type": "stream",
     "text": [
      "Percentage of Missing Data: 0.217 % removed\n",
      "Percentage of Duplicated Data: 40.8 % removed\n"
     ]
    }
   ],
   "source": [
    "bruteforce = process_data(bruteforce)"
   ]
  },
  {
   "cell_type": "code",
   "execution_count": 7,
   "id": "977d4c26",
   "metadata": {},
   "outputs": [
    {
     "data": {
      "text/html": [
       "<div>\n",
       "<style scoped>\n",
       "    .dataframe tbody tr th:only-of-type {\n",
       "        vertical-align: middle;\n",
       "    }\n",
       "\n",
       "    .dataframe tbody tr th {\n",
       "        vertical-align: top;\n",
       "    }\n",
       "\n",
       "    .dataframe thead th {\n",
       "        text-align: right;\n",
       "    }\n",
       "</style>\n",
       "<table border=\"1\" class=\"dataframe\">\n",
       "  <thead>\n",
       "    <tr style=\"text-align: right;\">\n",
       "      <th></th>\n",
       "      <th>Flow Duration</th>\n",
       "      <th>Tot Fwd Pkts</th>\n",
       "      <th>Tot Bwd Pkts</th>\n",
       "      <th>TotLen Fwd Pkts</th>\n",
       "      <th>TotLen Bwd Pkts</th>\n",
       "      <th>Fwd Pkt Len Max</th>\n",
       "      <th>Fwd Pkt Len Min</th>\n",
       "      <th>Fwd Pkt Len Mean</th>\n",
       "      <th>Fwd Pkt Len Std</th>\n",
       "      <th>Bwd Pkt Len Max</th>\n",
       "      <th>...</th>\n",
       "      <th>Active Max</th>\n",
       "      <th>Active Min</th>\n",
       "      <th>Idle Mean</th>\n",
       "      <th>Idle Std</th>\n",
       "      <th>Idle Max</th>\n",
       "      <th>Idle Min</th>\n",
       "      <th>prot__0</th>\n",
       "      <th>prot__6</th>\n",
       "      <th>prot__17</th>\n",
       "      <th>vector</th>\n",
       "    </tr>\n",
       "  </thead>\n",
       "  <tbody>\n",
       "    <tr>\n",
       "      <th>0</th>\n",
       "      <td>112641719</td>\n",
       "      <td>3</td>\n",
       "      <td>0</td>\n",
       "      <td>0</td>\n",
       "      <td>0</td>\n",
       "      <td>0</td>\n",
       "      <td>0</td>\n",
       "      <td>0.000000</td>\n",
       "      <td>0.000000</td>\n",
       "      <td>0</td>\n",
       "      <td>...</td>\n",
       "      <td>0</td>\n",
       "      <td>0</td>\n",
       "      <td>56320859.5</td>\n",
       "      <td>139.300036</td>\n",
       "      <td>56320958</td>\n",
       "      <td>56320761</td>\n",
       "      <td>1</td>\n",
       "      <td>0</td>\n",
       "      <td>0</td>\n",
       "      <td>0</td>\n",
       "    </tr>\n",
       "    <tr>\n",
       "      <th>1</th>\n",
       "      <td>112641466</td>\n",
       "      <td>3</td>\n",
       "      <td>0</td>\n",
       "      <td>0</td>\n",
       "      <td>0</td>\n",
       "      <td>0</td>\n",
       "      <td>0</td>\n",
       "      <td>0.000000</td>\n",
       "      <td>0.000000</td>\n",
       "      <td>0</td>\n",
       "      <td>...</td>\n",
       "      <td>0</td>\n",
       "      <td>0</td>\n",
       "      <td>56320733.0</td>\n",
       "      <td>114.551299</td>\n",
       "      <td>56320814</td>\n",
       "      <td>56320652</td>\n",
       "      <td>1</td>\n",
       "      <td>0</td>\n",
       "      <td>0</td>\n",
       "      <td>0</td>\n",
       "    </tr>\n",
       "    <tr>\n",
       "      <th>2</th>\n",
       "      <td>112638623</td>\n",
       "      <td>3</td>\n",
       "      <td>0</td>\n",
       "      <td>0</td>\n",
       "      <td>0</td>\n",
       "      <td>0</td>\n",
       "      <td>0</td>\n",
       "      <td>0.000000</td>\n",
       "      <td>0.000000</td>\n",
       "      <td>0</td>\n",
       "      <td>...</td>\n",
       "      <td>0</td>\n",
       "      <td>0</td>\n",
       "      <td>56319311.5</td>\n",
       "      <td>301.934596</td>\n",
       "      <td>56319525</td>\n",
       "      <td>56319098</td>\n",
       "      <td>1</td>\n",
       "      <td>0</td>\n",
       "      <td>0</td>\n",
       "      <td>0</td>\n",
       "    </tr>\n",
       "    <tr>\n",
       "      <th>3</th>\n",
       "      <td>6453966</td>\n",
       "      <td>15</td>\n",
       "      <td>10</td>\n",
       "      <td>1239</td>\n",
       "      <td>2273</td>\n",
       "      <td>744</td>\n",
       "      <td>0</td>\n",
       "      <td>82.600000</td>\n",
       "      <td>196.741237</td>\n",
       "      <td>976</td>\n",
       "      <td>...</td>\n",
       "      <td>0</td>\n",
       "      <td>0</td>\n",
       "      <td>0.0</td>\n",
       "      <td>0.000000</td>\n",
       "      <td>0</td>\n",
       "      <td>0</td>\n",
       "      <td>0</td>\n",
       "      <td>1</td>\n",
       "      <td>0</td>\n",
       "      <td>0</td>\n",
       "    </tr>\n",
       "    <tr>\n",
       "      <th>4</th>\n",
       "      <td>8804066</td>\n",
       "      <td>14</td>\n",
       "      <td>11</td>\n",
       "      <td>1143</td>\n",
       "      <td>2209</td>\n",
       "      <td>744</td>\n",
       "      <td>0</td>\n",
       "      <td>81.642857</td>\n",
       "      <td>203.745545</td>\n",
       "      <td>976</td>\n",
       "      <td>...</td>\n",
       "      <td>0</td>\n",
       "      <td>0</td>\n",
       "      <td>0.0</td>\n",
       "      <td>0.000000</td>\n",
       "      <td>0</td>\n",
       "      <td>0</td>\n",
       "      <td>0</td>\n",
       "      <td>1</td>\n",
       "      <td>0</td>\n",
       "      <td>0</td>\n",
       "    </tr>\n",
       "  </tbody>\n",
       "</table>\n",
       "<p>5 rows × 80 columns</p>\n",
       "</div>"
      ],
      "text/plain": [
       "   Flow Duration  Tot Fwd Pkts  Tot Bwd Pkts  TotLen Fwd Pkts  \\\n",
       "0      112641719             3             0                0   \n",
       "1      112641466             3             0                0   \n",
       "2      112638623             3             0                0   \n",
       "3        6453966            15            10             1239   \n",
       "4        8804066            14            11             1143   \n",
       "\n",
       "   TotLen Bwd Pkts  Fwd Pkt Len Max  Fwd Pkt Len Min  Fwd Pkt Len Mean  \\\n",
       "0                0                0                0          0.000000   \n",
       "1                0                0                0          0.000000   \n",
       "2                0                0                0          0.000000   \n",
       "3             2273              744                0         82.600000   \n",
       "4             2209              744                0         81.642857   \n",
       "\n",
       "   Fwd Pkt Len Std  Bwd Pkt Len Max  ...  Active Max  Active Min   Idle Mean  \\\n",
       "0         0.000000                0  ...           0           0  56320859.5   \n",
       "1         0.000000                0  ...           0           0  56320733.0   \n",
       "2         0.000000                0  ...           0           0  56319311.5   \n",
       "3       196.741237              976  ...           0           0         0.0   \n",
       "4       203.745545              976  ...           0           0         0.0   \n",
       "\n",
       "     Idle Std  Idle Max  Idle Min  prot__0  prot__6  prot__17  vector  \n",
       "0  139.300036  56320958  56320761        1        0         0       0  \n",
       "1  114.551299  56320814  56320652        1        0         0       0  \n",
       "2  301.934596  56319525  56319098        1        0         0       0  \n",
       "3    0.000000         0         0        0        1         0       0  \n",
       "4    0.000000         0         0        0        1         0       0  \n",
       "\n",
       "[5 rows x 80 columns]"
      ]
     },
     "execution_count": 7,
     "metadata": {},
     "output_type": "execute_result"
    }
   ],
   "source": [
    "bruteforce.head()"
   ]
  },
  {
   "cell_type": "code",
   "execution_count": 8,
   "id": "bc1d2279",
   "metadata": {},
   "outputs": [
    {
     "data": {
      "text/plain": [
       "0    525356\n",
       "1     94101\n",
       "Name: vector, dtype: int64"
      ]
     },
     "execution_count": 8,
     "metadata": {},
     "output_type": "execute_result"
    }
   ],
   "source": [
    "bruteforce[\"vector\"].value_counts()"
   ]
  },
  {
   "cell_type": "markdown",
   "id": "bf98bded",
   "metadata": {},
   "source": [
    "### Dos attacks"
   ]
  },
  {
   "cell_type": "code",
   "execution_count": 9,
   "id": "633b6771",
   "metadata": {},
   "outputs": [],
   "source": [
    "dos = pd.concat([pd.read_csv(\"cse-cic-ids2018-datasets/02-15-2018.csv\",low_memory=False), \n",
    "                 pd.read_csv(\"cse-cic-ids2018-datasets/02-16-2018.csv\",low_memory=False)])"
   ]
  },
  {
   "cell_type": "code",
   "execution_count": 10,
   "id": "e7949e73",
   "metadata": {},
   "outputs": [
    {
     "data": {
      "text/plain": [
       "Benign                      1442849\n",
       "DoS attacks-Hulk             461912\n",
       "DoS attacks-SlowHTTPTest     139890\n",
       "DoS attacks-GoldenEye         41508\n",
       "DoS attacks-Slowloris         10990\n",
       "Label                             1\n",
       "Name: Label, dtype: int64"
      ]
     },
     "execution_count": 10,
     "metadata": {},
     "output_type": "execute_result"
    }
   ],
   "source": [
    "dos[\"Label\"].value_counts()"
   ]
  },
  {
   "cell_type": "code",
   "execution_count": 11,
   "id": "5937eb00",
   "metadata": {},
   "outputs": [
    {
     "name": "stdout",
     "output_type": "stream",
     "text": [
      "Percentage of Missing Data: 0.235 % removed\n",
      "Percentage of Duplicated Data: 33.71 % removed\n"
     ]
    }
   ],
   "source": [
    "dos = process_data(dos)"
   ]
  },
  {
   "cell_type": "code",
   "execution_count": 12,
   "id": "cbcf5cef",
   "metadata": {},
   "outputs": [
    {
     "data": {
      "text/html": [
       "<div>\n",
       "<style scoped>\n",
       "    .dataframe tbody tr th:only-of-type {\n",
       "        vertical-align: middle;\n",
       "    }\n",
       "\n",
       "    .dataframe tbody tr th {\n",
       "        vertical-align: top;\n",
       "    }\n",
       "\n",
       "    .dataframe thead th {\n",
       "        text-align: right;\n",
       "    }\n",
       "</style>\n",
       "<table border=\"1\" class=\"dataframe\">\n",
       "  <thead>\n",
       "    <tr style=\"text-align: right;\">\n",
       "      <th></th>\n",
       "      <th>Flow Duration</th>\n",
       "      <th>Tot Fwd Pkts</th>\n",
       "      <th>Tot Bwd Pkts</th>\n",
       "      <th>TotLen Fwd Pkts</th>\n",
       "      <th>TotLen Bwd Pkts</th>\n",
       "      <th>Fwd Pkt Len Max</th>\n",
       "      <th>Fwd Pkt Len Min</th>\n",
       "      <th>Fwd Pkt Len Mean</th>\n",
       "      <th>Fwd Pkt Len Std</th>\n",
       "      <th>Bwd Pkt Len Max</th>\n",
       "      <th>...</th>\n",
       "      <th>Active Max</th>\n",
       "      <th>Active Min</th>\n",
       "      <th>Idle Mean</th>\n",
       "      <th>Idle Std</th>\n",
       "      <th>Idle Max</th>\n",
       "      <th>Idle Min</th>\n",
       "      <th>prot__0</th>\n",
       "      <th>prot__6</th>\n",
       "      <th>prot__17</th>\n",
       "      <th>vector</th>\n",
       "    </tr>\n",
       "  </thead>\n",
       "  <tbody>\n",
       "    <tr>\n",
       "      <th>0</th>\n",
       "      <td>112641158</td>\n",
       "      <td>3</td>\n",
       "      <td>0</td>\n",
       "      <td>0</td>\n",
       "      <td>0</td>\n",
       "      <td>0</td>\n",
       "      <td>0</td>\n",
       "      <td>0.0</td>\n",
       "      <td>0.0</td>\n",
       "      <td>0</td>\n",
       "      <td>...</td>\n",
       "      <td>0</td>\n",
       "      <td>0</td>\n",
       "      <td>56320579.0</td>\n",
       "      <td>704.278354</td>\n",
       "      <td>56321077</td>\n",
       "      <td>56320081</td>\n",
       "      <td>1</td>\n",
       "      <td>0</td>\n",
       "      <td>0</td>\n",
       "      <td>0</td>\n",
       "    </tr>\n",
       "    <tr>\n",
       "      <th>1</th>\n",
       "      <td>37366762</td>\n",
       "      <td>14</td>\n",
       "      <td>12</td>\n",
       "      <td>2168</td>\n",
       "      <td>2993</td>\n",
       "      <td>712</td>\n",
       "      <td>0</td>\n",
       "      <td>154.857143</td>\n",
       "      <td>254.85527</td>\n",
       "      <td>976</td>\n",
       "      <td>...</td>\n",
       "      <td>1601183</td>\n",
       "      <td>321569</td>\n",
       "      <td>11431221.0</td>\n",
       "      <td>3644990.559845</td>\n",
       "      <td>15617415</td>\n",
       "      <td>8960247</td>\n",
       "      <td>0</td>\n",
       "      <td>1</td>\n",
       "      <td>0</td>\n",
       "      <td>0</td>\n",
       "    </tr>\n",
       "    <tr>\n",
       "      <th>2</th>\n",
       "      <td>543</td>\n",
       "      <td>2</td>\n",
       "      <td>0</td>\n",
       "      <td>64</td>\n",
       "      <td>0</td>\n",
       "      <td>64</td>\n",
       "      <td>0</td>\n",
       "      <td>32.0</td>\n",
       "      <td>45.254834</td>\n",
       "      <td>0</td>\n",
       "      <td>...</td>\n",
       "      <td>0</td>\n",
       "      <td>0</td>\n",
       "      <td>0.0</td>\n",
       "      <td>0.0</td>\n",
       "      <td>0</td>\n",
       "      <td>0</td>\n",
       "      <td>0</td>\n",
       "      <td>1</td>\n",
       "      <td>0</td>\n",
       "      <td>0</td>\n",
       "    </tr>\n",
       "    <tr>\n",
       "      <th>3</th>\n",
       "      <td>112640703</td>\n",
       "      <td>3</td>\n",
       "      <td>0</td>\n",
       "      <td>0</td>\n",
       "      <td>0</td>\n",
       "      <td>0</td>\n",
       "      <td>0</td>\n",
       "      <td>0.0</td>\n",
       "      <td>0.0</td>\n",
       "      <td>0</td>\n",
       "      <td>...</td>\n",
       "      <td>0</td>\n",
       "      <td>0</td>\n",
       "      <td>56320351.5</td>\n",
       "      <td>366.988419</td>\n",
       "      <td>56320611</td>\n",
       "      <td>56320092</td>\n",
       "      <td>1</td>\n",
       "      <td>0</td>\n",
       "      <td>0</td>\n",
       "      <td>0</td>\n",
       "    </tr>\n",
       "    <tr>\n",
       "      <th>4</th>\n",
       "      <td>112640874</td>\n",
       "      <td>3</td>\n",
       "      <td>0</td>\n",
       "      <td>0</td>\n",
       "      <td>0</td>\n",
       "      <td>0</td>\n",
       "      <td>0</td>\n",
       "      <td>0.0</td>\n",
       "      <td>0.0</td>\n",
       "      <td>0</td>\n",
       "      <td>...</td>\n",
       "      <td>0</td>\n",
       "      <td>0</td>\n",
       "      <td>56320437.0</td>\n",
       "      <td>719.834703</td>\n",
       "      <td>56320946</td>\n",
       "      <td>56319928</td>\n",
       "      <td>1</td>\n",
       "      <td>0</td>\n",
       "      <td>0</td>\n",
       "      <td>0</td>\n",
       "    </tr>\n",
       "  </tbody>\n",
       "</table>\n",
       "<p>5 rows × 80 columns</p>\n",
       "</div>"
      ],
      "text/plain": [
       "  Flow Duration Tot Fwd Pkts Tot Bwd Pkts TotLen Fwd Pkts TotLen Bwd Pkts  \\\n",
       "0     112641158            3            0               0               0   \n",
       "1      37366762           14           12            2168            2993   \n",
       "2           543            2            0              64               0   \n",
       "3     112640703            3            0               0               0   \n",
       "4     112640874            3            0               0               0   \n",
       "\n",
       "  Fwd Pkt Len Max Fwd Pkt Len Min Fwd Pkt Len Mean Fwd Pkt Len Std  \\\n",
       "0               0               0              0.0             0.0   \n",
       "1             712               0       154.857143       254.85527   \n",
       "2              64               0             32.0       45.254834   \n",
       "3               0               0              0.0             0.0   \n",
       "4               0               0              0.0             0.0   \n",
       "\n",
       "  Bwd Pkt Len Max  ... Active Max Active Min   Idle Mean        Idle Std  \\\n",
       "0               0  ...          0          0  56320579.0      704.278354   \n",
       "1             976  ...    1601183     321569  11431221.0  3644990.559845   \n",
       "2               0  ...          0          0         0.0             0.0   \n",
       "3               0  ...          0          0  56320351.5      366.988419   \n",
       "4               0  ...          0          0  56320437.0      719.834703   \n",
       "\n",
       "   Idle Max  Idle Min prot__0 prot__6 prot__17 vector  \n",
       "0  56321077  56320081       1       0        0      0  \n",
       "1  15617415   8960247       0       1        0      0  \n",
       "2         0         0       0       1        0      0  \n",
       "3  56320611  56320092       1       0        0      0  \n",
       "4  56320946  56319928       1       0        0      0  \n",
       "\n",
       "[5 rows x 80 columns]"
      ]
     },
     "execution_count": 12,
     "metadata": {},
     "output_type": "execute_result"
    }
   ],
   "source": [
    "dos.head()"
   ]
  },
  {
   "cell_type": "code",
   "execution_count": 13,
   "id": "0372b9bb",
   "metadata": {},
   "outputs": [
    {
     "data": {
      "text/plain": [
       "0    1190332\n",
       "2     196568\n",
       "Name: vector, dtype: int64"
      ]
     },
     "execution_count": 13,
     "metadata": {},
     "output_type": "execute_result"
    }
   ],
   "source": [
    "dos[\"vector\"].value_counts()"
   ]
  },
  {
   "cell_type": "markdown",
   "id": "1ce26464",
   "metadata": {},
   "source": [
    "### Web attacks"
   ]
  },
  {
   "cell_type": "code",
   "execution_count": 14,
   "id": "0165d81c",
   "metadata": {},
   "outputs": [],
   "source": [
    "web = pd.concat([pd.read_csv(\"cse-cic-ids2018-datasets/02-22-2018.csv\",low_memory=False), \n",
    "                 pd.read_csv(\"cse-cic-ids2018-datasets/02-23-2018.csv\",low_memory=False)])"
   ]
  },
  {
   "cell_type": "code",
   "execution_count": 15,
   "id": "26b33bc5",
   "metadata": {},
   "outputs": [
    {
     "data": {
      "text/plain": [
       "Benign              2096222\n",
       "Brute Force -Web        611\n",
       "Brute Force -XSS        230\n",
       "SQL Injection            87\n",
       "Name: Label, dtype: int64"
      ]
     },
     "execution_count": 15,
     "metadata": {},
     "output_type": "execute_result"
    }
   ],
   "source": [
    "web[\"Label\"].value_counts()"
   ]
  },
  {
   "cell_type": "code",
   "execution_count": 16,
   "id": "3b1cb933",
   "metadata": {},
   "outputs": [
    {
     "name": "stdout",
     "output_type": "stream",
     "text": [
      "Percentage of Missing Data: 0.349 % removed\n",
      "Percentage of Duplicated Data: 23.56 % removed\n"
     ]
    }
   ],
   "source": [
    "web = process_data(web)"
   ]
  },
  {
   "cell_type": "code",
   "execution_count": 17,
   "id": "2c5d3000",
   "metadata": {},
   "outputs": [
    {
     "data": {
      "text/html": [
       "<div>\n",
       "<style scoped>\n",
       "    .dataframe tbody tr th:only-of-type {\n",
       "        vertical-align: middle;\n",
       "    }\n",
       "\n",
       "    .dataframe tbody tr th {\n",
       "        vertical-align: top;\n",
       "    }\n",
       "\n",
       "    .dataframe thead th {\n",
       "        text-align: right;\n",
       "    }\n",
       "</style>\n",
       "<table border=\"1\" class=\"dataframe\">\n",
       "  <thead>\n",
       "    <tr style=\"text-align: right;\">\n",
       "      <th></th>\n",
       "      <th>Flow Duration</th>\n",
       "      <th>Tot Fwd Pkts</th>\n",
       "      <th>Tot Bwd Pkts</th>\n",
       "      <th>TotLen Fwd Pkts</th>\n",
       "      <th>TotLen Bwd Pkts</th>\n",
       "      <th>Fwd Pkt Len Max</th>\n",
       "      <th>Fwd Pkt Len Min</th>\n",
       "      <th>Fwd Pkt Len Mean</th>\n",
       "      <th>Fwd Pkt Len Std</th>\n",
       "      <th>Bwd Pkt Len Max</th>\n",
       "      <th>...</th>\n",
       "      <th>Active Max</th>\n",
       "      <th>Active Min</th>\n",
       "      <th>Idle Mean</th>\n",
       "      <th>Idle Std</th>\n",
       "      <th>Idle Max</th>\n",
       "      <th>Idle Min</th>\n",
       "      <th>prot__0</th>\n",
       "      <th>prot__6</th>\n",
       "      <th>prot__17</th>\n",
       "      <th>vector</th>\n",
       "    </tr>\n",
       "  </thead>\n",
       "  <tbody>\n",
       "    <tr>\n",
       "      <th>0</th>\n",
       "      <td>20553406</td>\n",
       "      <td>10</td>\n",
       "      <td>7</td>\n",
       "      <td>1063</td>\n",
       "      <td>1297</td>\n",
       "      <td>744</td>\n",
       "      <td>0</td>\n",
       "      <td>106.3</td>\n",
       "      <td>239.357496</td>\n",
       "      <td>976</td>\n",
       "      <td>...</td>\n",
       "      <td>1027304</td>\n",
       "      <td>1027304</td>\n",
       "      <td>1.952608e+07</td>\n",
       "      <td>0.000000e+00</td>\n",
       "      <td>19526080</td>\n",
       "      <td>19526080</td>\n",
       "      <td>0</td>\n",
       "      <td>1</td>\n",
       "      <td>0</td>\n",
       "      <td>0</td>\n",
       "    </tr>\n",
       "    <tr>\n",
       "      <th>1</th>\n",
       "      <td>790</td>\n",
       "      <td>2</td>\n",
       "      <td>0</td>\n",
       "      <td>848</td>\n",
       "      <td>0</td>\n",
       "      <td>848</td>\n",
       "      <td>0</td>\n",
       "      <td>424.0</td>\n",
       "      <td>599.626550</td>\n",
       "      <td>0</td>\n",
       "      <td>...</td>\n",
       "      <td>0</td>\n",
       "      <td>0</td>\n",
       "      <td>0.000000e+00</td>\n",
       "      <td>0.000000e+00</td>\n",
       "      <td>0</td>\n",
       "      <td>0</td>\n",
       "      <td>0</td>\n",
       "      <td>1</td>\n",
       "      <td>0</td>\n",
       "      <td>0</td>\n",
       "    </tr>\n",
       "    <tr>\n",
       "      <th>2</th>\n",
       "      <td>99745913</td>\n",
       "      <td>5</td>\n",
       "      <td>0</td>\n",
       "      <td>2500</td>\n",
       "      <td>0</td>\n",
       "      <td>500</td>\n",
       "      <td>500</td>\n",
       "      <td>500.0</td>\n",
       "      <td>0.000000</td>\n",
       "      <td>0</td>\n",
       "      <td>...</td>\n",
       "      <td>4000203</td>\n",
       "      <td>4000203</td>\n",
       "      <td>3.191524e+07</td>\n",
       "      <td>3.792787e+07</td>\n",
       "      <td>75584115</td>\n",
       "      <td>7200679</td>\n",
       "      <td>0</td>\n",
       "      <td>0</td>\n",
       "      <td>1</td>\n",
       "      <td>0</td>\n",
       "    </tr>\n",
       "    <tr>\n",
       "      <th>3</th>\n",
       "      <td>99745913</td>\n",
       "      <td>5</td>\n",
       "      <td>0</td>\n",
       "      <td>2500</td>\n",
       "      <td>0</td>\n",
       "      <td>500</td>\n",
       "      <td>500</td>\n",
       "      <td>500.0</td>\n",
       "      <td>0.000000</td>\n",
       "      <td>0</td>\n",
       "      <td>...</td>\n",
       "      <td>4000189</td>\n",
       "      <td>4000189</td>\n",
       "      <td>3.191524e+07</td>\n",
       "      <td>3.792788e+07</td>\n",
       "      <td>75584130</td>\n",
       "      <td>7200693</td>\n",
       "      <td>0</td>\n",
       "      <td>0</td>\n",
       "      <td>1</td>\n",
       "      <td>0</td>\n",
       "    </tr>\n",
       "    <tr>\n",
       "      <th>4</th>\n",
       "      <td>89481361</td>\n",
       "      <td>6</td>\n",
       "      <td>0</td>\n",
       "      <td>3000</td>\n",
       "      <td>0</td>\n",
       "      <td>500</td>\n",
       "      <td>500</td>\n",
       "      <td>500.0</td>\n",
       "      <td>0.000000</td>\n",
       "      <td>0</td>\n",
       "      <td>...</td>\n",
       "      <td>4000554</td>\n",
       "      <td>4000554</td>\n",
       "      <td>2.137020e+07</td>\n",
       "      <td>1.528109e+07</td>\n",
       "      <td>41990741</td>\n",
       "      <td>7200848</td>\n",
       "      <td>0</td>\n",
       "      <td>0</td>\n",
       "      <td>1</td>\n",
       "      <td>0</td>\n",
       "    </tr>\n",
       "  </tbody>\n",
       "</table>\n",
       "<p>5 rows × 80 columns</p>\n",
       "</div>"
      ],
      "text/plain": [
       "   Flow Duration  Tot Fwd Pkts  Tot Bwd Pkts  TotLen Fwd Pkts  \\\n",
       "0       20553406            10             7             1063   \n",
       "1            790             2             0              848   \n",
       "2       99745913             5             0             2500   \n",
       "3       99745913             5             0             2500   \n",
       "4       89481361             6             0             3000   \n",
       "\n",
       "   TotLen Bwd Pkts  Fwd Pkt Len Max  Fwd Pkt Len Min  Fwd Pkt Len Mean  \\\n",
       "0             1297              744                0             106.3   \n",
       "1                0              848                0             424.0   \n",
       "2                0              500              500             500.0   \n",
       "3                0              500              500             500.0   \n",
       "4                0              500              500             500.0   \n",
       "\n",
       "   Fwd Pkt Len Std  Bwd Pkt Len Max  ...  Active Max  Active Min  \\\n",
       "0       239.357496              976  ...     1027304     1027304   \n",
       "1       599.626550                0  ...           0           0   \n",
       "2         0.000000                0  ...     4000203     4000203   \n",
       "3         0.000000                0  ...     4000189     4000189   \n",
       "4         0.000000                0  ...     4000554     4000554   \n",
       "\n",
       "      Idle Mean      Idle Std  Idle Max  Idle Min  prot__0  prot__6  prot__17  \\\n",
       "0  1.952608e+07  0.000000e+00  19526080  19526080        0        1         0   \n",
       "1  0.000000e+00  0.000000e+00         0         0        0        1         0   \n",
       "2  3.191524e+07  3.792787e+07  75584115   7200679        0        0         1   \n",
       "3  3.191524e+07  3.792788e+07  75584130   7200693        0        0         1   \n",
       "4  2.137020e+07  1.528109e+07  41990741   7200848        0        0         1   \n",
       "\n",
       "   vector  \n",
       "0       0  \n",
       "1       0  \n",
       "2       0  \n",
       "3       0  \n",
       "4       0  \n",
       "\n",
       "[5 rows x 80 columns]"
      ]
     },
     "execution_count": 17,
     "metadata": {},
     "output_type": "execute_result"
    }
   ],
   "source": [
    "web.head()"
   ]
  },
  {
   "cell_type": "code",
   "execution_count": 18,
   "id": "6627f3cb",
   "metadata": {},
   "outputs": [
    {
     "data": {
      "text/plain": [
       "0    1596687\n",
       "3        867\n",
       "Name: vector, dtype: int64"
      ]
     },
     "execution_count": 18,
     "metadata": {},
     "output_type": "execute_result"
    }
   ],
   "source": [
    "web[\"vector\"].value_counts()"
   ]
  },
  {
   "cell_type": "markdown",
   "id": "9ff1ddde",
   "metadata": {},
   "source": [
    "### Infiltration Attacks"
   ]
  },
  {
   "cell_type": "code",
   "execution_count": 19,
   "id": "7405f641",
   "metadata": {},
   "outputs": [],
   "source": [
    "infiltration =  pd.concat([pd.read_csv(\"cse-cic-ids2018-datasets/02-28-2018.csv\",low_memory=False), \n",
    "                   pd.read_csv(\"cse-cic-ids2018-datasets/03-01-2018.csv\",low_memory=False)])"
   ]
  },
  {
   "cell_type": "code",
   "execution_count": 20,
   "id": "2841b237",
   "metadata": {},
   "outputs": [
    {
     "data": {
      "text/plain": [
       "Benign           782237\n",
       "Infilteration    161934\n",
       "Label                58\n",
       "Name: Label, dtype: int64"
      ]
     },
     "execution_count": 20,
     "metadata": {},
     "output_type": "execute_result"
    }
   ],
   "source": [
    "infiltration[\"Label\"].value_counts()"
   ]
  },
  {
   "cell_type": "code",
   "execution_count": 21,
   "id": "7224870e",
   "metadata": {},
   "outputs": [
    {
     "name": "stdout",
     "output_type": "stream",
     "text": [
      "Percentage of Missing Data: 0.0 % removed\n",
      "Percentage of Duplicated Data: 26.38 % removed\n"
     ]
    }
   ],
   "source": [
    "infiltration = process_data(infiltration)"
   ]
  },
  {
   "cell_type": "code",
   "execution_count": 22,
   "id": "d4b09b08",
   "metadata": {},
   "outputs": [
    {
     "data": {
      "text/html": [
       "<div>\n",
       "<style scoped>\n",
       "    .dataframe tbody tr th:only-of-type {\n",
       "        vertical-align: middle;\n",
       "    }\n",
       "\n",
       "    .dataframe tbody tr th {\n",
       "        vertical-align: top;\n",
       "    }\n",
       "\n",
       "    .dataframe thead th {\n",
       "        text-align: right;\n",
       "    }\n",
       "</style>\n",
       "<table border=\"1\" class=\"dataframe\">\n",
       "  <thead>\n",
       "    <tr style=\"text-align: right;\">\n",
       "      <th></th>\n",
       "      <th>Flow Duration</th>\n",
       "      <th>Tot Fwd Pkts</th>\n",
       "      <th>Tot Bwd Pkts</th>\n",
       "      <th>TotLen Fwd Pkts</th>\n",
       "      <th>TotLen Bwd Pkts</th>\n",
       "      <th>Fwd Pkt Len Max</th>\n",
       "      <th>Fwd Pkt Len Min</th>\n",
       "      <th>Fwd Pkt Len Mean</th>\n",
       "      <th>Fwd Pkt Len Std</th>\n",
       "      <th>Bwd Pkt Len Max</th>\n",
       "      <th>...</th>\n",
       "      <th>Active Max</th>\n",
       "      <th>Active Min</th>\n",
       "      <th>Idle Mean</th>\n",
       "      <th>Idle Std</th>\n",
       "      <th>Idle Max</th>\n",
       "      <th>Idle Min</th>\n",
       "      <th>prot__0</th>\n",
       "      <th>prot__6</th>\n",
       "      <th>prot__17</th>\n",
       "      <th>vector</th>\n",
       "    </tr>\n",
       "  </thead>\n",
       "  <tbody>\n",
       "    <tr>\n",
       "      <th>0</th>\n",
       "      <td>94658</td>\n",
       "      <td>6</td>\n",
       "      <td>7</td>\n",
       "      <td>708</td>\n",
       "      <td>3718</td>\n",
       "      <td>387</td>\n",
       "      <td>0</td>\n",
       "      <td>118</td>\n",
       "      <td>159.2846508613</td>\n",
       "      <td>1460</td>\n",
       "      <td>...</td>\n",
       "      <td>0</td>\n",
       "      <td>0</td>\n",
       "      <td>0</td>\n",
       "      <td>0</td>\n",
       "      <td>0</td>\n",
       "      <td>0</td>\n",
       "      <td>0</td>\n",
       "      <td>1</td>\n",
       "      <td>0</td>\n",
       "      <td>0</td>\n",
       "    </tr>\n",
       "    <tr>\n",
       "      <th>1</th>\n",
       "      <td>206</td>\n",
       "      <td>2</td>\n",
       "      <td>0</td>\n",
       "      <td>0</td>\n",
       "      <td>0</td>\n",
       "      <td>0</td>\n",
       "      <td>0</td>\n",
       "      <td>0</td>\n",
       "      <td>0</td>\n",
       "      <td>0</td>\n",
       "      <td>...</td>\n",
       "      <td>0</td>\n",
       "      <td>0</td>\n",
       "      <td>0</td>\n",
       "      <td>0</td>\n",
       "      <td>0</td>\n",
       "      <td>0</td>\n",
       "      <td>0</td>\n",
       "      <td>1</td>\n",
       "      <td>0</td>\n",
       "      <td>0</td>\n",
       "    </tr>\n",
       "    <tr>\n",
       "      <th>2</th>\n",
       "      <td>165505</td>\n",
       "      <td>3</td>\n",
       "      <td>1</td>\n",
       "      <td>0</td>\n",
       "      <td>0</td>\n",
       "      <td>0</td>\n",
       "      <td>0</td>\n",
       "      <td>0</td>\n",
       "      <td>0</td>\n",
       "      <td>0</td>\n",
       "      <td>...</td>\n",
       "      <td>0</td>\n",
       "      <td>0</td>\n",
       "      <td>0</td>\n",
       "      <td>0</td>\n",
       "      <td>0</td>\n",
       "      <td>0</td>\n",
       "      <td>0</td>\n",
       "      <td>1</td>\n",
       "      <td>0</td>\n",
       "      <td>0</td>\n",
       "    </tr>\n",
       "    <tr>\n",
       "      <th>3</th>\n",
       "      <td>102429</td>\n",
       "      <td>6</td>\n",
       "      <td>7</td>\n",
       "      <td>708</td>\n",
       "      <td>3718</td>\n",
       "      <td>387</td>\n",
       "      <td>0</td>\n",
       "      <td>118</td>\n",
       "      <td>159.2846508613</td>\n",
       "      <td>1460</td>\n",
       "      <td>...</td>\n",
       "      <td>0</td>\n",
       "      <td>0</td>\n",
       "      <td>0</td>\n",
       "      <td>0</td>\n",
       "      <td>0</td>\n",
       "      <td>0</td>\n",
       "      <td>0</td>\n",
       "      <td>1</td>\n",
       "      <td>0</td>\n",
       "      <td>0</td>\n",
       "    </tr>\n",
       "    <tr>\n",
       "      <th>4</th>\n",
       "      <td>167</td>\n",
       "      <td>2</td>\n",
       "      <td>0</td>\n",
       "      <td>0</td>\n",
       "      <td>0</td>\n",
       "      <td>0</td>\n",
       "      <td>0</td>\n",
       "      <td>0</td>\n",
       "      <td>0</td>\n",
       "      <td>0</td>\n",
       "      <td>...</td>\n",
       "      <td>0</td>\n",
       "      <td>0</td>\n",
       "      <td>0</td>\n",
       "      <td>0</td>\n",
       "      <td>0</td>\n",
       "      <td>0</td>\n",
       "      <td>0</td>\n",
       "      <td>1</td>\n",
       "      <td>0</td>\n",
       "      <td>0</td>\n",
       "    </tr>\n",
       "  </tbody>\n",
       "</table>\n",
       "<p>5 rows × 80 columns</p>\n",
       "</div>"
      ],
      "text/plain": [
       "  Flow Duration Tot Fwd Pkts Tot Bwd Pkts TotLen Fwd Pkts TotLen Bwd Pkts  \\\n",
       "0         94658            6            7             708            3718   \n",
       "1           206            2            0               0               0   \n",
       "2        165505            3            1               0               0   \n",
       "3        102429            6            7             708            3718   \n",
       "4           167            2            0               0               0   \n",
       "\n",
       "  Fwd Pkt Len Max Fwd Pkt Len Min Fwd Pkt Len Mean Fwd Pkt Len Std  \\\n",
       "0             387               0              118  159.2846508613   \n",
       "1               0               0                0               0   \n",
       "2               0               0                0               0   \n",
       "3             387               0              118  159.2846508613   \n",
       "4               0               0                0               0   \n",
       "\n",
       "  Bwd Pkt Len Max  ... Active Max Active Min Idle Mean Idle Std Idle Max  \\\n",
       "0            1460  ...          0          0         0        0        0   \n",
       "1               0  ...          0          0         0        0        0   \n",
       "2               0  ...          0          0         0        0        0   \n",
       "3            1460  ...          0          0         0        0        0   \n",
       "4               0  ...          0          0         0        0        0   \n",
       "\n",
       "  Idle Min prot__0 prot__6 prot__17 vector  \n",
       "0        0       0       1        0      0  \n",
       "1        0       0       1        0      0  \n",
       "2        0       0       1        0      0  \n",
       "3        0       0       1        0      0  \n",
       "4        0       0       1        0      0  \n",
       "\n",
       "[5 rows x 80 columns]"
      ]
     },
     "execution_count": 22,
     "metadata": {},
     "output_type": "execute_result"
    }
   ],
   "source": [
    "infiltration.head()"
   ]
  },
  {
   "cell_type": "code",
   "execution_count": 23,
   "id": "8860b2f3",
   "metadata": {},
   "outputs": [
    {
     "data": {
      "text/plain": [
       "0    570452\n",
       "4    113219\n",
       "Name: vector, dtype: int64"
      ]
     },
     "execution_count": 23,
     "metadata": {},
     "output_type": "execute_result"
    }
   ],
   "source": [
    "infiltration[\"vector\"].value_counts()"
   ]
  },
  {
   "cell_type": "markdown",
   "id": "e9efc434",
   "metadata": {},
   "source": [
    "### Botnet"
   ]
  },
  {
   "cell_type": "code",
   "execution_count": 24,
   "id": "5dffca03",
   "metadata": {},
   "outputs": [],
   "source": [
    "botnet = pd.read_csv(\"cse-cic-ids2018-datasets/03-02-2018.csv\",low_memory=False)"
   ]
  },
  {
   "cell_type": "code",
   "execution_count": 25,
   "id": "36d44a23",
   "metadata": {},
   "outputs": [
    {
     "data": {
      "text/plain": [
       "Benign    762384\n",
       "Bot       286191\n",
       "Name: Label, dtype: int64"
      ]
     },
     "execution_count": 25,
     "metadata": {},
     "output_type": "execute_result"
    }
   ],
   "source": [
    "botnet[\"Label\"].value_counts()"
   ]
  },
  {
   "cell_type": "code",
   "execution_count": 26,
   "id": "ed410125",
   "metadata": {},
   "outputs": [
    {
     "name": "stdout",
     "output_type": "stream",
     "text": [
      "Percentage of Missing Data: 0.244 % removed\n",
      "Percentage of Duplicated Data: 26.22 % removed\n"
     ]
    }
   ],
   "source": [
    "botnet = process_data(botnet)"
   ]
  },
  {
   "cell_type": "code",
   "execution_count": 27,
   "id": "c6316c62",
   "metadata": {},
   "outputs": [
    {
     "data": {
      "text/html": [
       "<div>\n",
       "<style scoped>\n",
       "    .dataframe tbody tr th:only-of-type {\n",
       "        vertical-align: middle;\n",
       "    }\n",
       "\n",
       "    .dataframe tbody tr th {\n",
       "        vertical-align: top;\n",
       "    }\n",
       "\n",
       "    .dataframe thead th {\n",
       "        text-align: right;\n",
       "    }\n",
       "</style>\n",
       "<table border=\"1\" class=\"dataframe\">\n",
       "  <thead>\n",
       "    <tr style=\"text-align: right;\">\n",
       "      <th></th>\n",
       "      <th>Flow Duration</th>\n",
       "      <th>Tot Fwd Pkts</th>\n",
       "      <th>Tot Bwd Pkts</th>\n",
       "      <th>TotLen Fwd Pkts</th>\n",
       "      <th>TotLen Bwd Pkts</th>\n",
       "      <th>Fwd Pkt Len Max</th>\n",
       "      <th>Fwd Pkt Len Min</th>\n",
       "      <th>Fwd Pkt Len Mean</th>\n",
       "      <th>Fwd Pkt Len Std</th>\n",
       "      <th>Bwd Pkt Len Max</th>\n",
       "      <th>...</th>\n",
       "      <th>Active Max</th>\n",
       "      <th>Active Min</th>\n",
       "      <th>Idle Mean</th>\n",
       "      <th>Idle Std</th>\n",
       "      <th>Idle Max</th>\n",
       "      <th>Idle Min</th>\n",
       "      <th>prot__0</th>\n",
       "      <th>prot__6</th>\n",
       "      <th>prot__17</th>\n",
       "      <th>vector</th>\n",
       "    </tr>\n",
       "  </thead>\n",
       "  <tbody>\n",
       "    <tr>\n",
       "      <th>0</th>\n",
       "      <td>141385</td>\n",
       "      <td>9</td>\n",
       "      <td>7</td>\n",
       "      <td>553</td>\n",
       "      <td>3773.0</td>\n",
       "      <td>202</td>\n",
       "      <td>0</td>\n",
       "      <td>61.444444</td>\n",
       "      <td>87.534438</td>\n",
       "      <td>1460</td>\n",
       "      <td>...</td>\n",
       "      <td>0.0</td>\n",
       "      <td>0.0</td>\n",
       "      <td>0.0</td>\n",
       "      <td>0.0</td>\n",
       "      <td>0.0</td>\n",
       "      <td>0.0</td>\n",
       "      <td>0</td>\n",
       "      <td>1</td>\n",
       "      <td>0</td>\n",
       "      <td>0</td>\n",
       "    </tr>\n",
       "    <tr>\n",
       "      <th>1</th>\n",
       "      <td>281</td>\n",
       "      <td>2</td>\n",
       "      <td>1</td>\n",
       "      <td>38</td>\n",
       "      <td>0.0</td>\n",
       "      <td>38</td>\n",
       "      <td>0</td>\n",
       "      <td>19.000000</td>\n",
       "      <td>26.870058</td>\n",
       "      <td>0</td>\n",
       "      <td>...</td>\n",
       "      <td>0.0</td>\n",
       "      <td>0.0</td>\n",
       "      <td>0.0</td>\n",
       "      <td>0.0</td>\n",
       "      <td>0.0</td>\n",
       "      <td>0.0</td>\n",
       "      <td>0</td>\n",
       "      <td>1</td>\n",
       "      <td>0</td>\n",
       "      <td>0</td>\n",
       "    </tr>\n",
       "    <tr>\n",
       "      <th>2</th>\n",
       "      <td>279824</td>\n",
       "      <td>11</td>\n",
       "      <td>15</td>\n",
       "      <td>1086</td>\n",
       "      <td>10527.0</td>\n",
       "      <td>385</td>\n",
       "      <td>0</td>\n",
       "      <td>98.727273</td>\n",
       "      <td>129.392497</td>\n",
       "      <td>1460</td>\n",
       "      <td>...</td>\n",
       "      <td>0.0</td>\n",
       "      <td>0.0</td>\n",
       "      <td>0.0</td>\n",
       "      <td>0.0</td>\n",
       "      <td>0.0</td>\n",
       "      <td>0.0</td>\n",
       "      <td>0</td>\n",
       "      <td>1</td>\n",
       "      <td>0</td>\n",
       "      <td>0</td>\n",
       "    </tr>\n",
       "    <tr>\n",
       "      <th>3</th>\n",
       "      <td>132</td>\n",
       "      <td>2</td>\n",
       "      <td>0</td>\n",
       "      <td>0</td>\n",
       "      <td>0.0</td>\n",
       "      <td>0</td>\n",
       "      <td>0</td>\n",
       "      <td>0.000000</td>\n",
       "      <td>0.000000</td>\n",
       "      <td>0</td>\n",
       "      <td>...</td>\n",
       "      <td>0.0</td>\n",
       "      <td>0.0</td>\n",
       "      <td>0.0</td>\n",
       "      <td>0.0</td>\n",
       "      <td>0.0</td>\n",
       "      <td>0.0</td>\n",
       "      <td>0</td>\n",
       "      <td>1</td>\n",
       "      <td>0</td>\n",
       "      <td>0</td>\n",
       "    </tr>\n",
       "    <tr>\n",
       "      <th>4</th>\n",
       "      <td>274016</td>\n",
       "      <td>9</td>\n",
       "      <td>13</td>\n",
       "      <td>1285</td>\n",
       "      <td>6141.0</td>\n",
       "      <td>517</td>\n",
       "      <td>0</td>\n",
       "      <td>142.777778</td>\n",
       "      <td>183.887722</td>\n",
       "      <td>1460</td>\n",
       "      <td>...</td>\n",
       "      <td>0.0</td>\n",
       "      <td>0.0</td>\n",
       "      <td>0.0</td>\n",
       "      <td>0.0</td>\n",
       "      <td>0.0</td>\n",
       "      <td>0.0</td>\n",
       "      <td>0</td>\n",
       "      <td>1</td>\n",
       "      <td>0</td>\n",
       "      <td>0</td>\n",
       "    </tr>\n",
       "  </tbody>\n",
       "</table>\n",
       "<p>5 rows × 80 columns</p>\n",
       "</div>"
      ],
      "text/plain": [
       "   Flow Duration  Tot Fwd Pkts  Tot Bwd Pkts  TotLen Fwd Pkts  \\\n",
       "0         141385             9             7              553   \n",
       "1            281             2             1               38   \n",
       "2         279824            11            15             1086   \n",
       "3            132             2             0                0   \n",
       "4         274016             9            13             1285   \n",
       "\n",
       "   TotLen Bwd Pkts  Fwd Pkt Len Max  Fwd Pkt Len Min  Fwd Pkt Len Mean  \\\n",
       "0           3773.0              202                0         61.444444   \n",
       "1              0.0               38                0         19.000000   \n",
       "2          10527.0              385                0         98.727273   \n",
       "3              0.0                0                0          0.000000   \n",
       "4           6141.0              517                0        142.777778   \n",
       "\n",
       "   Fwd Pkt Len Std  Bwd Pkt Len Max  ...  Active Max  Active Min  Idle Mean  \\\n",
       "0        87.534438             1460  ...         0.0         0.0        0.0   \n",
       "1        26.870058                0  ...         0.0         0.0        0.0   \n",
       "2       129.392497             1460  ...         0.0         0.0        0.0   \n",
       "3         0.000000                0  ...         0.0         0.0        0.0   \n",
       "4       183.887722             1460  ...         0.0         0.0        0.0   \n",
       "\n",
       "   Idle Std  Idle Max  Idle Min  prot__0  prot__6  prot__17  vector  \n",
       "0       0.0       0.0       0.0        0        1         0       0  \n",
       "1       0.0       0.0       0.0        0        1         0       0  \n",
       "2       0.0       0.0       0.0        0        1         0       0  \n",
       "3       0.0       0.0       0.0        0        1         0       0  \n",
       "4       0.0       0.0       0.0        0        1         0       0  \n",
       "\n",
       "[5 rows x 80 columns]"
      ]
     },
     "execution_count": 27,
     "metadata": {},
     "output_type": "execute_result"
    }
   ],
   "source": [
    "botnet.head()"
   ]
  },
  {
   "cell_type": "code",
   "execution_count": 28,
   "id": "2f5932d2",
   "metadata": {},
   "outputs": [
    {
     "data": {
      "text/plain": [
       "0    627215\n",
       "5    144535\n",
       "Name: vector, dtype: int64"
      ]
     },
     "execution_count": 28,
     "metadata": {},
     "output_type": "execute_result"
    }
   ],
   "source": [
    "botnet[\"vector\"].value_counts()"
   ]
  },
  {
   "cell_type": "markdown",
   "id": "1b245eb7",
   "metadata": {},
   "source": [
    "### DDoS"
   ]
  },
  {
   "cell_type": "code",
   "execution_count": 29,
   "id": "f1d10408",
   "metadata": {},
   "outputs": [],
   "source": [
    "ddos = pd.concat([pd.read_csv(\"cse-cic-ids2018-datasets/02-20-2018.csv\"), \n",
    "                  pd.read_csv(\"cse-cic-ids2018-datasets/02-21-2018.csv\")])\n",
    "ddos = ddos.drop([\"Flow ID\",\"Src IP\",\"Src Port\",\"Dst IP\"], axis=1)"
   ]
  },
  {
   "cell_type": "code",
   "execution_count": 30,
   "id": "d4c2a91e",
   "metadata": {},
   "outputs": [
    {
     "data": {
      "text/plain": [
       "Benign                    7733390\n",
       "DDOS attack-HOIC           686012\n",
       "DDoS attacks-LOIC-HTTP     576191\n",
       "DDOS attack-LOIC-UDP         1730\n",
       "Name: Label, dtype: int64"
      ]
     },
     "execution_count": 30,
     "metadata": {},
     "output_type": "execute_result"
    }
   ],
   "source": [
    "ddos[\"Label\"].value_counts()"
   ]
  },
  {
   "cell_type": "code",
   "execution_count": 31,
   "id": "dcbf0452",
   "metadata": {},
   "outputs": [
    {
     "name": "stdout",
     "output_type": "stream",
     "text": [
      "Percentage of Missing Data: 0.409 % removed\n",
      "Percentage of Duplicated Data: 33.07 % removed\n"
     ]
    }
   ],
   "source": [
    "ddos = process_data(ddos)"
   ]
  },
  {
   "cell_type": "code",
   "execution_count": 32,
   "id": "dc79132b",
   "metadata": {},
   "outputs": [
    {
     "data": {
      "text/html": [
       "<div>\n",
       "<style scoped>\n",
       "    .dataframe tbody tr th:only-of-type {\n",
       "        vertical-align: middle;\n",
       "    }\n",
       "\n",
       "    .dataframe tbody tr th {\n",
       "        vertical-align: top;\n",
       "    }\n",
       "\n",
       "    .dataframe thead th {\n",
       "        text-align: right;\n",
       "    }\n",
       "</style>\n",
       "<table border=\"1\" class=\"dataframe\">\n",
       "  <thead>\n",
       "    <tr style=\"text-align: right;\">\n",
       "      <th></th>\n",
       "      <th>Flow Duration</th>\n",
       "      <th>Tot Fwd Pkts</th>\n",
       "      <th>Tot Bwd Pkts</th>\n",
       "      <th>TotLen Fwd Pkts</th>\n",
       "      <th>TotLen Bwd Pkts</th>\n",
       "      <th>Fwd Pkt Len Max</th>\n",
       "      <th>Fwd Pkt Len Min</th>\n",
       "      <th>Fwd Pkt Len Mean</th>\n",
       "      <th>Fwd Pkt Len Std</th>\n",
       "      <th>Bwd Pkt Len Max</th>\n",
       "      <th>...</th>\n",
       "      <th>Active Max</th>\n",
       "      <th>Active Min</th>\n",
       "      <th>Idle Mean</th>\n",
       "      <th>Idle Std</th>\n",
       "      <th>Idle Max</th>\n",
       "      <th>Idle Min</th>\n",
       "      <th>prot__0</th>\n",
       "      <th>prot__6</th>\n",
       "      <th>prot__17</th>\n",
       "      <th>vector</th>\n",
       "    </tr>\n",
       "  </thead>\n",
       "  <tbody>\n",
       "    <tr>\n",
       "      <th>0</th>\n",
       "      <td>888751</td>\n",
       "      <td>11</td>\n",
       "      <td>11</td>\n",
       "      <td>1249.0</td>\n",
       "      <td>1969.0</td>\n",
       "      <td>736.0</td>\n",
       "      <td>0.0</td>\n",
       "      <td>113.545455</td>\n",
       "      <td>220.896068</td>\n",
       "      <td>976.0</td>\n",
       "      <td>...</td>\n",
       "      <td>0.0</td>\n",
       "      <td>0.0</td>\n",
       "      <td>0.0</td>\n",
       "      <td>0.000000</td>\n",
       "      <td>0.0</td>\n",
       "      <td>0.0</td>\n",
       "      <td>0</td>\n",
       "      <td>1</td>\n",
       "      <td>0</td>\n",
       "      <td>0</td>\n",
       "    </tr>\n",
       "    <tr>\n",
       "      <th>1</th>\n",
       "      <td>112642816</td>\n",
       "      <td>3</td>\n",
       "      <td>0</td>\n",
       "      <td>0.0</td>\n",
       "      <td>0.0</td>\n",
       "      <td>0.0</td>\n",
       "      <td>0.0</td>\n",
       "      <td>0.000000</td>\n",
       "      <td>0.000000</td>\n",
       "      <td>0.0</td>\n",
       "      <td>...</td>\n",
       "      <td>0.0</td>\n",
       "      <td>0.0</td>\n",
       "      <td>56300000.0</td>\n",
       "      <td>7.071068</td>\n",
       "      <td>56300000.0</td>\n",
       "      <td>56300000.0</td>\n",
       "      <td>1</td>\n",
       "      <td>0</td>\n",
       "      <td>0</td>\n",
       "      <td>0</td>\n",
       "    </tr>\n",
       "    <tr>\n",
       "      <th>2</th>\n",
       "      <td>112642712</td>\n",
       "      <td>3</td>\n",
       "      <td>0</td>\n",
       "      <td>0.0</td>\n",
       "      <td>0.0</td>\n",
       "      <td>0.0</td>\n",
       "      <td>0.0</td>\n",
       "      <td>0.000000</td>\n",
       "      <td>0.000000</td>\n",
       "      <td>0.0</td>\n",
       "      <td>...</td>\n",
       "      <td>0.0</td>\n",
       "      <td>0.0</td>\n",
       "      <td>56300000.0</td>\n",
       "      <td>18.384776</td>\n",
       "      <td>56300000.0</td>\n",
       "      <td>56300000.0</td>\n",
       "      <td>1</td>\n",
       "      <td>0</td>\n",
       "      <td>0</td>\n",
       "      <td>0</td>\n",
       "    </tr>\n",
       "    <tr>\n",
       "      <th>3</th>\n",
       "      <td>112642648</td>\n",
       "      <td>3</td>\n",
       "      <td>0</td>\n",
       "      <td>0.0</td>\n",
       "      <td>0.0</td>\n",
       "      <td>0.0</td>\n",
       "      <td>0.0</td>\n",
       "      <td>0.000000</td>\n",
       "      <td>0.000000</td>\n",
       "      <td>0.0</td>\n",
       "      <td>...</td>\n",
       "      <td>0.0</td>\n",
       "      <td>0.0</td>\n",
       "      <td>56300000.0</td>\n",
       "      <td>5.656854</td>\n",
       "      <td>56300000.0</td>\n",
       "      <td>56300000.0</td>\n",
       "      <td>1</td>\n",
       "      <td>0</td>\n",
       "      <td>0</td>\n",
       "      <td>0</td>\n",
       "    </tr>\n",
       "    <tr>\n",
       "      <th>4</th>\n",
       "      <td>112642702</td>\n",
       "      <td>3</td>\n",
       "      <td>0</td>\n",
       "      <td>0.0</td>\n",
       "      <td>0.0</td>\n",
       "      <td>0.0</td>\n",
       "      <td>0.0</td>\n",
       "      <td>0.000000</td>\n",
       "      <td>0.000000</td>\n",
       "      <td>0.0</td>\n",
       "      <td>...</td>\n",
       "      <td>0.0</td>\n",
       "      <td>0.0</td>\n",
       "      <td>56300000.0</td>\n",
       "      <td>65.053824</td>\n",
       "      <td>56300000.0</td>\n",
       "      <td>56300000.0</td>\n",
       "      <td>1</td>\n",
       "      <td>0</td>\n",
       "      <td>0</td>\n",
       "      <td>0</td>\n",
       "    </tr>\n",
       "  </tbody>\n",
       "</table>\n",
       "<p>5 rows × 80 columns</p>\n",
       "</div>"
      ],
      "text/plain": [
       "   Flow Duration  Tot Fwd Pkts  Tot Bwd Pkts  TotLen Fwd Pkts  \\\n",
       "0         888751            11            11           1249.0   \n",
       "1      112642816             3             0              0.0   \n",
       "2      112642712             3             0              0.0   \n",
       "3      112642648             3             0              0.0   \n",
       "4      112642702             3             0              0.0   \n",
       "\n",
       "   TotLen Bwd Pkts  Fwd Pkt Len Max  Fwd Pkt Len Min  Fwd Pkt Len Mean  \\\n",
       "0           1969.0            736.0              0.0        113.545455   \n",
       "1              0.0              0.0              0.0          0.000000   \n",
       "2              0.0              0.0              0.0          0.000000   \n",
       "3              0.0              0.0              0.0          0.000000   \n",
       "4              0.0              0.0              0.0          0.000000   \n",
       "\n",
       "   Fwd Pkt Len Std  Bwd Pkt Len Max  ...  Active Max  Active Min   Idle Mean  \\\n",
       "0       220.896068            976.0  ...         0.0         0.0         0.0   \n",
       "1         0.000000              0.0  ...         0.0         0.0  56300000.0   \n",
       "2         0.000000              0.0  ...         0.0         0.0  56300000.0   \n",
       "3         0.000000              0.0  ...         0.0         0.0  56300000.0   \n",
       "4         0.000000              0.0  ...         0.0         0.0  56300000.0   \n",
       "\n",
       "    Idle Std    Idle Max    Idle Min  prot__0  prot__6  prot__17  vector  \n",
       "0   0.000000         0.0         0.0        0        1         0       0  \n",
       "1   7.071068  56300000.0  56300000.0        1        0         0       0  \n",
       "2  18.384776  56300000.0  56300000.0        1        0         0       0  \n",
       "3   5.656854  56300000.0  56300000.0        1        0         0       0  \n",
       "4  65.053824  56300000.0  56300000.0        1        0         0       0  \n",
       "\n",
       "[5 rows x 80 columns]"
      ]
     },
     "execution_count": 32,
     "metadata": {},
     "output_type": "execute_result"
    }
   ],
   "source": [
    "ddos.head()"
   ]
  },
  {
   "cell_type": "code",
   "execution_count": 33,
   "id": "e5377f2d",
   "metadata": {},
   "outputs": [
    {
     "data": {
      "text/plain": [
       "0    5221666\n",
       "6     775955\n",
       "Name: vector, dtype: int64"
      ]
     },
     "execution_count": 33,
     "metadata": {},
     "output_type": "execute_result"
    }
   ],
   "source": [
    "ddos[\"vector\"].value_counts()"
   ]
  },
  {
   "cell_type": "markdown",
   "id": "93e523b9",
   "metadata": {},
   "source": [
    "### Benign-Malicious traffic distribution in dataset\n",
    "\n",
    "In the coming visualisation, we can observe that there is an overwhelming amount of records being benign traffic while the rest of the dataset that holds the attack vectors are in small numbers. Although this is a realistic representation of real traffic, it is not ideal for training a neural network to detect said attack vectors as the model might learn that it can achieve high accuracy by simply choosing the majority class, resulting in inaccurate evaluation metrics."
   ]
  },
  {
   "cell_type": "code",
   "execution_count": 35,
   "id": "ea6469f7",
   "metadata": {},
   "outputs": [
    {
     "data": {
      "text/html": [
       "<div>\n",
       "<style scoped>\n",
       "    .dataframe tbody tr th:only-of-type {\n",
       "        vertical-align: middle;\n",
       "    }\n",
       "\n",
       "    .dataframe tbody tr th {\n",
       "        vertical-align: top;\n",
       "    }\n",
       "\n",
       "    .dataframe thead th {\n",
       "        text-align: right;\n",
       "    }\n",
       "</style>\n",
       "<table border=\"1\" class=\"dataframe\">\n",
       "  <thead>\n",
       "    <tr style=\"text-align: right;\">\n",
       "      <th></th>\n",
       "      <th>Attack Vector</th>\n",
       "      <th>Size</th>\n",
       "      <th>Percentage</th>\n",
       "    </tr>\n",
       "  </thead>\n",
       "  <tbody>\n",
       "    <tr>\n",
       "      <th>0</th>\n",
       "      <td>Benign</td>\n",
       "      <td>9731708</td>\n",
       "      <td>88.01</td>\n",
       "    </tr>\n",
       "    <tr>\n",
       "      <th>1</th>\n",
       "      <td>BruteForce</td>\n",
       "      <td>94101</td>\n",
       "      <td>0.85</td>\n",
       "    </tr>\n",
       "    <tr>\n",
       "      <th>2</th>\n",
       "      <td>DoS</td>\n",
       "      <td>196568</td>\n",
       "      <td>1.78</td>\n",
       "    </tr>\n",
       "    <tr>\n",
       "      <th>3</th>\n",
       "      <td>Web</td>\n",
       "      <td>867</td>\n",
       "      <td>0.01</td>\n",
       "    </tr>\n",
       "    <tr>\n",
       "      <th>4</th>\n",
       "      <td>Infiltration</td>\n",
       "      <td>113219</td>\n",
       "      <td>1.02</td>\n",
       "    </tr>\n",
       "    <tr>\n",
       "      <th>5</th>\n",
       "      <td>Botnet</td>\n",
       "      <td>144535</td>\n",
       "      <td>1.31</td>\n",
       "    </tr>\n",
       "    <tr>\n",
       "      <th>6</th>\n",
       "      <td>DDoS</td>\n",
       "      <td>775955</td>\n",
       "      <td>7.02</td>\n",
       "    </tr>\n",
       "  </tbody>\n",
       "</table>\n",
       "</div>"
      ],
      "text/plain": [
       "  Attack Vector     Size  Percentage\n",
       "0        Benign  9731708       88.01\n",
       "1    BruteForce    94101        0.85\n",
       "2           DoS   196568        1.78\n",
       "3           Web      867        0.01\n",
       "4  Infiltration   113219        1.02\n",
       "5        Botnet   144535        1.31\n",
       "6          DDoS   775955        7.02"
      ]
     },
     "execution_count": 35,
     "metadata": {},
     "output_type": "execute_result"
    }
   ],
   "source": [
    "# Consolidate all benign records into one\n",
    "benign_records = bruteforce[\"vector\"].value_counts()[0] + dos[\"vector\"].value_counts()[0] + \\\n",
    "                 web[\"vector\"].value_counts()[0] + infiltration[\"vector\"].value_counts()[0] + \\\n",
    "                 botnet[\"vector\"].value_counts()[0] + ddos[\"vector\"].value_counts()[0]\n",
    "\n",
    "# Sorting attack vectors and benign traffic before consolidating into one dataframe \n",
    "bruteforce_attacks = bruteforce[\"vector\"].value_counts()[1]\n",
    "dos_attacks = dos[\"vector\"].value_counts()[2]\n",
    "web_attacks = web[\"vector\"].value_counts()[3]\n",
    "infiltration_attacks = infiltration[\"vector\"].value_counts()[4]\n",
    "botnet_attacks = botnet[\"vector\"].value_counts()[5]\n",
    "ddos_attacks = ddos[\"vector\"].value_counts()[6]\n",
    "\n",
    "network_df = pd.DataFrame({\"Attack Vector\":[\"Benign\",\"BruteForce\",\"DoS\",\"Web\",\"Infiltration\",\"Botnet\",\"DDoS\"],\n",
    "                             \"Size\":[benign_records, bruteforce_attacks, dos_attacks, web_attacks,\n",
    "                                         infiltration_attacks, botnet_attacks, ddos_attacks]})\n",
    "\n",
    "network_df[\"Percentage\"] = round(network_df[\"Size\"]/network_df[\"Size\"].sum()*100,2)\n",
    "\n",
    "network_df"
   ]
  },
  {
   "cell_type": "markdown",
   "id": "d8cd9c6c",
   "metadata": {},
   "source": [
    "### Undersampling the dataset\n",
    "\n",
    "In this section, we will be undersampling the dataset manually by the minority class which is the Web attack vector. Due to the existence of benign records in every dataset, we will also pick a number of benign traffic from each dataset proportionate to the total number of dataset that contains benign traffic."
   ]
  },
  {
   "cell_type": "code",
   "execution_count": 39,
   "id": "e3856cee",
   "metadata": {},
   "outputs": [],
   "source": [
    "# Undersampling all attack vectors w/o benign\n",
    "bruteforce_sample = bruteforce.loc[bruteforce[\"vector\"]==1].sample(n=867).copy()\n",
    "dos_sample = dos.loc[dos[\"vector\"]==2].sample(n=867).copy()\n",
    "web_sample = web.loc[web[\"vector\"]==3].sample(n=867).copy()\n",
    "infiltration_sample = infiltration.loc[infiltration[\"vector\"]==4].sample(n=867).copy()\n",
    "botnet_sample = botnet.loc[botnet[\"vector\"]==5].sample(n=867).copy()\n",
    "ddos_sample = ddos.loc[ddos[\"vector\"]==6].sample(n=867Z).copy()\n",
    "\n",
    "# Extracting all benign traffic from every dataframe\n",
    "bruteforce_benign = bruteforce.loc[bruteforce[\"vector\"]==0].copy()\n",
    "dos_benign = dos.loc[dos[\"vector\"]==0].copy()\n",
    "web_benign = web.loc[web[\"vector\"]==0].copy()\n",
    "infiltration_benign = infiltration.loc[infiltration[\"vector\"]==0].copy()\n",
    "botnet_benign = botnet.loc[botnet[\"vector\"]==0].copy()\n",
    "ddos_benign = ddos.loc[ddos[\"vector\"]==0].copy()\n",
    "\n",
    "# Calculating the total size of benign traffic\n",
    "total_benign = len(bruteforce_benign) + len(dos_benign) + len(web_benign) + len(infiltration_benign) + \\\n",
    "len(botnet_benign) + len(ddos_benign)\n",
    "\n",
    "# Calculating the ratio of benign traffic in every dataframe to the total size of benign traffic\n",
    "bruteforce_ratio = len(bruteforce_benign)/total_benign\n",
    "dos_ratio = len(dos_benign)/total_benign\n",
    "web_ratio = len(web_benign)/total_benign\n",
    "infiltration_ratio = len(infiltration_benign)/total_benign\n",
    "botnet_ratio = len(botnet_benign)/total_benign\n",
    "ddos_ratio = len(ddos_benign)/total_benign"
   ]
  },
  {
   "cell_type": "code",
   "execution_count": 40,
   "id": "868e5883",
   "metadata": {},
   "outputs": [
    {
     "data": {
      "text/plain": [
       "864"
      ]
     },
     "execution_count": 40,
     "metadata": {},
     "output_type": "execute_result"
    }
   ],
   "source": [
    "# Sampling a portion of benign traffic from every dataframe's benign traffic\n",
    "bruteforce_benign = bruteforce_benign.sample(n = int(bruteforce_ratio*867))\n",
    "dos_benign = dos_benign.sample(n = int(dos_ratio*867))\n",
    "web_benign = web_benign.sample(n = int(web_ratio*867))\n",
    "infiltration_benign = infiltration_benign.sample(n = int(infiltration_ratio*867))\n",
    "botnet_benign = botnet_benign.sample(n = int(botnet_ratio*867))\n",
    "ddos_benign = ddos_benign.sample(n = int(ddos_ratio*867))\n",
    "\n",
    "# Check to ensure benign traffic class size is similar\n",
    "len(bruteforce_benign) + len(dos_benign) + len(web_benign) + len(infiltration_benign) + len(botnet_benign) + len(ddos_benign) "
   ]
  },
  {
   "cell_type": "code",
   "execution_count": 41,
   "id": "85541f2d",
   "metadata": {},
   "outputs": [],
   "source": [
    "# Concatenating all the separate benign samples into one dataframe\n",
    "benign_sample = pd.concat([bruteforce_benign, dos_benign, web_benign, infiltration_benign, botnet_benign, ddos_benign],axis=0)"
   ]
  },
  {
   "cell_type": "code",
   "execution_count": 52,
   "id": "5640499a",
   "metadata": {},
   "outputs": [
    {
     "data": {
      "text/html": [
       "<div>\n",
       "<style scoped>\n",
       "    .dataframe tbody tr th:only-of-type {\n",
       "        vertical-align: middle;\n",
       "    }\n",
       "\n",
       "    .dataframe tbody tr th {\n",
       "        vertical-align: top;\n",
       "    }\n",
       "\n",
       "    .dataframe thead th {\n",
       "        text-align: right;\n",
       "    }\n",
       "</style>\n",
       "<table border=\"1\" class=\"dataframe\">\n",
       "  <thead>\n",
       "    <tr style=\"text-align: right;\">\n",
       "      <th></th>\n",
       "      <th>Attack Type</th>\n",
       "      <th>Records</th>\n",
       "      <th>Percentage</th>\n",
       "    </tr>\n",
       "  </thead>\n",
       "  <tbody>\n",
       "    <tr>\n",
       "      <th>0</th>\n",
       "      <td>Benign</td>\n",
       "      <td>864</td>\n",
       "      <td>14.10</td>\n",
       "    </tr>\n",
       "    <tr>\n",
       "      <th>1</th>\n",
       "      <td>BruteForce</td>\n",
       "      <td>867</td>\n",
       "      <td>14.15</td>\n",
       "    </tr>\n",
       "    <tr>\n",
       "      <th>2</th>\n",
       "      <td>DoS</td>\n",
       "      <td>867</td>\n",
       "      <td>14.15</td>\n",
       "    </tr>\n",
       "    <tr>\n",
       "      <th>3</th>\n",
       "      <td>Web</td>\n",
       "      <td>867</td>\n",
       "      <td>14.15</td>\n",
       "    </tr>\n",
       "    <tr>\n",
       "      <th>4</th>\n",
       "      <td>Infiltration</td>\n",
       "      <td>867</td>\n",
       "      <td>14.15</td>\n",
       "    </tr>\n",
       "    <tr>\n",
       "      <th>5</th>\n",
       "      <td>Botnet</td>\n",
       "      <td>867</td>\n",
       "      <td>14.15</td>\n",
       "    </tr>\n",
       "    <tr>\n",
       "      <th>6</th>\n",
       "      <td>DDoS</td>\n",
       "      <td>928</td>\n",
       "      <td>15.15</td>\n",
       "    </tr>\n",
       "  </tbody>\n",
       "</table>\n",
       "</div>"
      ],
      "text/plain": [
       "    Attack Type  Records  Percentage\n",
       "0        Benign      864       14.10\n",
       "1    BruteForce      867       14.15\n",
       "2           DoS      867       14.15\n",
       "3           Web      867       14.15\n",
       "4  Infiltration      867       14.15\n",
       "5        Botnet      867       14.15\n",
       "6          DDoS      928       15.15"
      ]
     },
     "execution_count": 52,
     "metadata": {},
     "output_type": "execute_result"
    }
   ],
   "source": [
    "# Combining all undersampled dataset into one final dataframe\n",
    "undersampled_dataset = pd.concat([benign_sample,bruteforce_sample, dos_sample, web_sample, \n",
    "                                  infiltration_sample, botnet_sample, ddos_sample],axis=0).sample(frac = 1)\n",
    "final_network_df = pd.DataFrame({'Attack Type':[\"Benign\",\"BruteForce\",\"DoS\",\"Web\",\"Infiltration\",\"Botnet\",\"DDoS\"],\n",
    "                                 'Records': undersampled_dataset['vector'].value_counts().sort_index().values})\n",
    "\n",
    "final_network_df[\"Percentage\"] = round(final_network_df[\"Records\"]/final_network_df[\"Records\"].sum()*100,2)\n",
    "final_network_df"
   ]
  },
  {
   "cell_type": "code",
   "execution_count": 43,
   "id": "409f11ca",
   "metadata": {},
   "outputs": [],
   "source": [
    "undersampled_dataset.to_csv(\"preprocessed_undersampled_cse-cic-ids2018.csv\", index=False)"
   ]
  },
  {
   "cell_type": "markdown",
   "id": "5a690028",
   "metadata": {},
   "source": [
    "# Model training and testing"
   ]
  },
  {
   "cell_type": "code",
   "execution_count": 119,
   "id": "431f299c",
   "metadata": {},
   "outputs": [],
   "source": [
    "# Reading preprocessed, undersampled dataset into dataframe and checking for infinity values one last time\n",
    "data = pd.read_csv(\"preprocessed_undersampled_cse-cic-ids2018.csv\")\n",
    "data = data[~data.isin([np.inf, -np.inf]).any(1)]\n",
    "\n",
    "\n",
    "# Setting seeds to be fixed \n",
    "np.random.seed(42)\n",
    "tf.random.set_seed(42)\n",
    "\n",
    "\n",
    "X = data.drop(\"vector\",axis=1).values\n",
    "y = data[\"vector\"].values"
   ]
  },
  {
   "cell_type": "markdown",
   "id": "f1de12a2",
   "metadata": {},
   "source": [
    "## SVM baseline\n",
    "\n",
    "The Support Vector Machine algorithm is used as a baseline comparison against the deep learning models that I will be training in order to benchmark their performances and effectiveness as an alternative to traditional machine learning algorithms."
   ]
  },
  {
   "cell_type": "code",
   "execution_count": 28,
   "id": "9d4c0a2a",
   "metadata": {
    "scrolled": false
   },
   "outputs": [
    {
     "name": "stdout",
     "output_type": "stream",
     "text": [
      "Iteration 0 \n",
      " Model accuracy: 0.8754758020663403 \n",
      "\n",
      "Iteration 1 \n",
      " Model accuracy: 0.8809135399673735 \n",
      "\n",
      "Iteration 2 \n",
      " Model accuracy: 0.855899945622621 \n",
      "\n",
      "Iteration 3 \n",
      " Model accuracy: 0.8640565524741708 \n",
      "\n",
      "Iteration 4 \n",
      " Model accuracy: 0.8656878738444806 \n",
      "\n"
     ]
    }
   ],
   "source": [
    "svm = SVM(X, y)\n",
    "svm.run_model(5)"
   ]
  },
  {
   "cell_type": "markdown",
   "id": "f4cbf762",
   "metadata": {},
   "source": [
    "## MLP\n",
    "\n",
    "In this section, we will be training and testing a model built on the <b>Multi-Layered Perceptron</b> neural network."
   ]
  },
  {
   "cell_type": "code",
   "execution_count": 29,
   "id": "c056f17f",
   "metadata": {},
   "outputs": [],
   "source": [
    "mlp = MLP(X, y)"
   ]
  },
  {
   "cell_type": "code",
   "execution_count": 30,
   "id": "5a56ff72",
   "metadata": {},
   "outputs": [
    {
     "name": "stdout",
     "output_type": "stream",
     "text": [
      "Iteration 0 \n",
      " Model training in progress.\n",
      " Model testing in progress.\n",
      "58/58 [==============================] - 0s 1ms/step\n",
      "58/58 [==============================] - 0s 1ms/step\n",
      " Model 0 accuracy: 0.8743882544861338 \n",
      "\n",
      "Iteration 1 \n",
      " Model training in progress.\n",
      " Model testing in progress.\n",
      "58/58 [==============================] - 0s 2ms/step\n",
      "58/58 [==============================] - 0s 1ms/step\n",
      " Model 1 accuracy: 0.8694942903752039 \n",
      "\n",
      "Iteration 2 \n",
      " Model training in progress.\n",
      " Model testing in progress.\n",
      "58/58 [==============================] - 0s 1ms/step\n",
      "58/58 [==============================] - 0s 1ms/step\n",
      " Model 2 accuracy: 0.8858075040783034 \n",
      "\n",
      "Iteration 3 \n",
      " Model training in progress.\n",
      " Model testing in progress.\n",
      "58/58 [==============================] - 0s 1ms/step\n",
      "58/58 [==============================] - 0s 1ms/step\n",
      " Model 3 accuracy: 0.8896139206090267 \n",
      "\n",
      "Iteration 4 \n",
      " Model training in progress.\n",
      " Model testing in progress.\n",
      "58/58 [==============================] - 0s 1ms/step\n",
      "58/58 [==============================] - 0s 1ms/step\n",
      " Model 4 accuracy: 0.8858075040783034 \n",
      "\n"
     ]
    }
   ],
   "source": [
    "mlp.run_model(5)"
   ]
  },
  {
   "cell_type": "markdown",
   "id": "8047c5a4",
   "metadata": {},
   "source": [
    "## CNN\n",
    "\n",
    "In this section, we run into a small issue in the number of features present. The issue being, that the number of features is a prime number. Hence, there were some trouble generating a complete shape for the attack types matrix. In order to resolve this issue, I used zero padding to increase the number of features to a more suitable number of 81. This method of data manipulation also minimise potential data loss."
   ]
  },
  {
   "cell_type": "code",
   "execution_count": 66,
   "id": "c944066c",
   "metadata": {},
   "outputs": [
    {
     "name": "stdout",
     "output_type": "stream",
     "text": [
      "The number of features in the dataset: 79.\n"
     ]
    }
   ],
   "source": [
    "print(f\"The number of features in the dataset: {X.shape[1]}.\")"
   ]
  },
  {
   "cell_type": "code",
   "execution_count": 120,
   "id": "9efaf5a1",
   "metadata": {
    "scrolled": false
   },
   "outputs": [
    {
     "data": {
      "image/png": "[encoded data removed]",
      "text/plain": [
       "<Figure size 1080x432 with 7 Axes>"
      ]
     },
     "metadata": {
      "needs_background": "light"
     },
     "output_type": "display_data"
    }
   ],
   "source": [
    "cnn = CNN(X, y, image_dim=9) # 81 Features = 9x9 Images\n",
    "cnn.show_attack_matrix({0:'Benign', 1:'Bruteforce Attack', 2:'DoS Attack', 3:'Web Attack'\n",
    "                             , 4:'Infiltration Attack', 5: 'Botnet Attack', 6:'DDoS Attack'})"
   ]
  },
  {
   "cell_type": "code",
   "execution_count": 13,
   "id": "2f927e3d",
   "metadata": {},
   "outputs": [
    {
     "name": "stdout",
     "output_type": "stream",
     "text": [
      "Iteration 0 \n",
      " Model training in progress.\n",
      " Model testing in progress.\n",
      "58/58 [==============================] - 0s 4ms/step\n",
      "58/58 [==============================] - 0s 2ms/step\n",
      " Model 0 accuracy: 0.8863512778684067 \n",
      "\n",
      "Iteration 1 \n",
      " Model training in progress.\n",
      " Model testing in progress.\n",
      "58/58 [==============================] - 0s 2ms/step\n",
      "58/58 [==============================] - 0s 2ms/step\n",
      " Model 1 accuracy: 0.88689505165851 \n",
      "\n",
      "Iteration 2 \n",
      " Model training in progress.\n",
      " Model testing in progress.\n",
      "58/58 [==============================] - 0s 2ms/step\n",
      "58/58 [==============================] - 0s 2ms/step\n",
      " Model 2 accuracy: 0.8771071234366503 \n",
      "\n",
      "Iteration 3 \n",
      " Model training in progress.\n",
      " Model testing in progress.\n",
      "58/58 [==============================] - 0s 2ms/step\n",
      "58/58 [==============================] - 0s 2ms/step\n",
      " Model 3 accuracy: 0.8803697661772703 \n",
      "\n",
      "Iteration 4 \n",
      " Model training in progress.\n",
      " Model testing in progress.\n",
      "58/58 [==============================] - 0s 2ms/step\n",
      "58/58 [==============================] - 0s 3ms/step\n",
      " Model 4 accuracy: 0.8814573137574769 \n",
      "\n"
     ]
    }
   ],
   "source": [
    "cnn.run_model(5)"
   ]
  },
  {
   "cell_type": "markdown",
   "id": "c43a5ba2",
   "metadata": {},
   "source": [
    "### LSTM\n",
    "\n",
    "In this section, we will be training and testing a model built on the <b>Long-Short-Term Memory</b> neural network, a variety of Recurrent Neural Network that is typically used in situations where the data present classifies as sequential data."
   ]
  },
  {
   "cell_type": "code",
   "execution_count": 26,
   "id": "04fa006f",
   "metadata": {},
   "outputs": [],
   "source": [
    "lstm = self_LSTM(X, y)"
   ]
  },
  {
   "cell_type": "code",
   "execution_count": 27,
   "id": "d51cd8b8",
   "metadata": {},
   "outputs": [
    {
     "name": "stdout",
     "output_type": "stream",
     "text": [
      "Iteration 0 \n",
      " Model training in progress.\n",
      "Restoring model weights from the end of the best epoch: 58.\n",
      "Epoch 63: early stopping\n",
      "Restoring model weights from the end of the best epoch: 67.\n",
      "Epoch 72: early stopping\n",
      " Model testing in progress.\n",
      "58/58 [==============================] - 0s 1ms/step\n",
      "58/58 [==============================] - 0s 1ms/step\n",
      " Model 0 accuracy: 0.8792822185970636 \n",
      "\n",
      "Iteration 1 \n",
      " Model training in progress.\n",
      "Restoring model weights from the end of the best epoch: 66.\n",
      "Epoch 71: early stopping\n",
      "Restoring model weights from the end of the best epoch: 66.\n",
      "Epoch 71: early stopping\n",
      " Model testing in progress.\n",
      "58/58 [==============================] - 0s 1ms/step\n",
      "58/58 [==============================] - 0s 1ms/step\n",
      " Model 1 accuracy: 0.8955954323001631 \n",
      "\n",
      "Iteration 2 \n",
      " Model training in progress.\n",
      "Restoring model weights from the end of the best epoch: 75.\n",
      "Epoch 80: early stopping\n",
      "Restoring model weights from the end of the best epoch: 65.\n",
      "Epoch 70: early stopping\n",
      " Model testing in progress.\n",
      "58/58 [==============================] - 0s 1ms/step\n",
      "58/58 [==============================] - 0s 2ms/step\n",
      " Model 2 accuracy: 0.8945078847199565 \n",
      "\n",
      "Iteration 3 \n",
      " Model training in progress.\n",
      "Restoring model weights from the end of the best epoch: 69.\n",
      "Epoch 74: early stopping\n",
      "Restoring model weights from the end of the best epoch: 58.\n",
      "Epoch 63: early stopping\n",
      " Model testing in progress.\n",
      "58/58 [==============================] - 0s 1ms/step\n",
      "58/58 [==============================] - 0s 1ms/step\n",
      " Model 3 accuracy: 0.8825448613376835 \n",
      "\n",
      "Iteration 4 \n",
      " Model training in progress.\n",
      "Restoring model weights from the end of the best epoch: 56.\n",
      "Epoch 61: early stopping\n",
      "Restoring model weights from the end of the best epoch: 57.\n",
      "Epoch 62: early stopping\n",
      " Model testing in progress.\n",
      "58/58 [==============================] - 0s 1ms/step\n",
      "58/58 [==============================] - 0s 2ms/step\n",
      " Model 4 accuracy: 0.8852637302882002 \n",
      "\n"
     ]
    }
   ],
   "source": [
    "lstm.run_model(5)"
   ]
  },
  {
   "cell_type": "markdown",
   "id": "7dbe4cae",
   "metadata": {},
   "source": [
    "# Model evaluation and comparison"
   ]
  },
  {
   "cell_type": "markdown",
   "id": "d4cc4e2f",
   "metadata": {},
   "source": [
    "## Plotting helper function\n",
    "\n",
    "To streamline certain details for convenience when plotting several bar graphs into one function."
   ]
  },
  {
   "cell_type": "code",
   "execution_count": 51,
   "id": "59fdfb85",
   "metadata": {},
   "outputs": [],
   "source": [
    "def plot_helper(rects, xpos='center', percentage=True):\n",
    "    # dict to ensure correct horizontal alignment and offset for the plot\n",
    "    ha = {'center': 'center', 'left': 'right', 'right': 'left'}\n",
    "    offset = {'center': 0, 'left': -1, 'right': 1}\n",
    "\n",
    "    # Aligning the value on every bar graph and statement to check if percentage is needed or not\n",
    "    for rect in rects:\n",
    "        height = rect.get_height()\n",
    "        if percentage:\n",
    "            ax.annotate('{}%'.format(height), ha=ha[xpos], va='bottom', xy=(rect.get_x() + rect.get_width() / 2, height), \n",
    "                        xytext=(offset[xpos]*3, 1), textcoords=\"offset points\", fontsize = 11)\n",
    "        else:\n",
    "            ax.annotate('{}'.format(height), ha=ha[xpos], va='bottom', xy=(rect.get_x() + rect.get_width() / 2, height), \n",
    "                        xytext=(offset[xpos]*3, 1), textcoords=\"offset points\", fontsize = 11)"
   ]
  },
  {
   "cell_type": "markdown",
   "id": "33a65d10",
   "metadata": {},
   "source": [
    "## Accuracy and F1 Score"
   ]
  },
  {
   "cell_type": "code",
   "execution_count": 109,
   "id": "3e40fdce",
   "metadata": {},
   "outputs": [
    {
     "data": {
      "image/png": "[encoded data removed]",
      "text/plain": [
       "<Figure size 864x432 with 1 Axes>"
      ]
     },
     "metadata": {
      "needs_background": "light"
     },
     "output_type": "display_data"
    }
   ],
   "source": [
    "acc_means, acc_std = (round(svm.acc[0]*100,2), round(mlp.acc[0]*100,2), round(cnn.acc[0]*100,2), round(lstm.acc[0]*100,2)), \\\n",
    "                             (svm.acc[1]*100, mlp.acc[1]*100, cnn.acc[1]*100, lstm.acc[1]*100)\n",
    "    \n",
    "f1_means, f1_std = (round(svm.f1[0]*100,2), round(mlp.f1[0]*100,2), round(cnn.f1[0]*100,2), round(lstm.f1[0]*100,2)), \\\n",
    "                         (svm.f1[1]*100, mlp.f1[1]*100, cnn.f1[1]*100, lstm.f1[1]*100)\n",
    "\n",
    "# To set the location of the labels for the model\n",
    "index = np.arange(len(acc_means))\n",
    "# Width of bar\n",
    "width = 0.35\n",
    "\n",
    "fig, ax = plt.subplots(figsize=(12,6))\n",
    "accrect = ax.bar(index - width/2, acc_means, width, yerr=acc_std, label='Accuracy', color='silver')\n",
    "f1rect = ax.bar(index + width/2, f1_means, width, yerr=f1_std, label='F1 Score', color='green')\n",
    "\n",
    "# Adding text labels and tidy up the graph\n",
    "ax.set_ylabel('Scores')\n",
    "ax.set_title('Accuracy and F1 Score performance for Model')\n",
    "ax.set_xticks(index)\n",
    "ax.set_xticklabels(('SVM', 'MLP', 'CNN', 'LSTM'))\n",
    "ax.legend()\n",
    "plt.ylim(80,90)\n",
    "plt.legend(bbox_to_anchor=(1,1))\n",
    "\n",
    "plot_helper(accrect, \"left\")\n",
    "plot_helper(f1rect, \"right\")\n",
    "fig.tight_layout()\n",
    "\n",
    "plt.savefig(\"acc_f1.pdf\")\n",
    "plt.savefig(\"acc_f1.png\")\n",
    "plt.show()"
   ]
  },
  {
   "cell_type": "markdown",
   "id": "23aefe35",
   "metadata": {},
   "source": [
    "## False alarm rate"
   ]
  },
  {
   "cell_type": "code",
   "execution_count": 110,
   "id": "992aa42e",
   "metadata": {},
   "outputs": [
    {
     "data": {
      "image/png": "[encoded data removed]",
      "text/plain": [
       "<Figure size 864x432 with 1 Axes>"
      ]
     },
     "metadata": {
      "needs_background": "light"
     },
     "output_type": "display_data"
    }
   ],
   "source": [
    "far_means, far_std = (round(svm.far[0]*100,2), round(mlp.far[0]*100,2), round(cnn.far[0]*100,2), round(lstm.far[0]*100,2)), \\\n",
    "(svm.far[1]*100, mlp.far[1]*100, cnn.far[1]*100, lstm.far[1]*100)\n",
    "\n",
    "# To set the location of the labels for the model    \n",
    "index = np.arange(len(far_means)) \n",
    "# Width of bar\n",
    "width = 0.35 \n",
    "\n",
    "fig, ax = plt.subplots(figsize=(12,6))\n",
    "far_rect = ax.bar(index, far_means, width, yerr=far_std, label='False Alarm Rate', color='red')\n",
    "\n",
    "# Adding text labels and tidy up the graph\n",
    "ax.set_title('False Alarm Rate for Model')\n",
    "ax.set_xticks(index)\n",
    "ax.set_xticklabels(('SVM', 'MLP', 'CNN', 'LSTM'))\n",
    "ax.legend()\n",
    "plt.legend(bbox_to_anchor=(1,1))\n",
    "\n",
    "plot_helper(far_rect, \"left\")\n",
    "fig.tight_layout()\n",
    "\n",
    "plt.savefig(\"far.png\")\n",
    "plt.savefig(\"far.pdf\")\n",
    "plt.show()"
   ]
  },
  {
   "cell_type": "markdown",
   "id": "d2800095",
   "metadata": {},
   "source": [
    "## Time taken to train each model"
   ]
  },
  {
   "cell_type": "code",
   "execution_count": 117,
   "id": "9d993a86",
   "metadata": {},
   "outputs": [
    {
     "data": {
      "image/png": "[encoded data removed]",
      "text/plain": [
       "<Figure size 576x432 with 1 Axes>"
      ]
     },
     "metadata": {
      "needs_background": "light"
     },
     "output_type": "display_data"
    }
   ],
   "source": [
    "train_time_means, train_time_std = (round(mlp.train_time[0],3), round(cnn.train_time[0],3), round(lstm.train_time[0],3)), \\\n",
    "                     (mlp.train_time[1], cnn.train_time[1], lstm.train_time[1])\n",
    "\n",
    "# To set the location of the labels for the model    \n",
    "index = np.arange(len(train_time_means))\n",
    "# Width of bar\n",
    "width = 0.35  \n",
    "\n",
    "fig, ax = plt.subplots(figsize=(8,6))\n",
    "train_rect = ax.bar(index, train_time_means, width, yerr=train_time_std, label='Training Time', color='aquamarine')\n",
    "\n",
    "# Adding text labels and tidy up the graph\n",
    "ax.set_ylabel('Training Time (seconds)')\n",
    "ax.set_title('Time taken to train Model')\n",
    "ax.set_xticks(index)\n",
    "ax.set_xticklabels(('MLP', 'CNN', 'LSTM'))\n",
    "ax.legend()\n",
    "plt.legend(bbox_to_anchor=(1,1))\n",
    "\n",
    "plot_helper(train_rect, \"left\", percentage=False)\n",
    "fig.tight_layout()\n",
    "\n",
    "plt.savefig(\"train_time.pdf\")\n",
    "plt.savefig(\"train_time.png\")\n",
    "plt.show()"
   ]
  },
  {
   "cell_type": "markdown",
   "id": "fbcf2bd4",
   "metadata": {},
   "source": [
    "## Time taken to test each model"
   ]
  },
  {
   "cell_type": "code",
   "execution_count": 116,
   "id": "f51092e5",
   "metadata": {},
   "outputs": [
    {
     "data": {
      "image/png": "[encoded data removed]",
      "text/plain": [
       "<Figure size 576x432 with 1 Axes>"
      ]
     },
     "metadata": {
      "needs_background": "light"
     },
     "output_type": "display_data"
    }
   ],
   "source": [
    "test_time_means, test_time_std = (round(mlp.test_time[0],3), round(cnn.test_time[0],3), round(lstm.test_time[0],3)), \\\n",
    "                     (mlp.test_time[1], cnn.test_time[1], lstm.test_time[1])\n",
    "\n",
    "# To set the location of the labels for the model\n",
    "index = np.arange(len(test_time_means)) \n",
    "# Width of bar\n",
    "width = 0.35\n",
    "\n",
    "fig, ax = plt.subplots(figsize=(8,6))\n",
    "test_rect = ax.bar(index, test_time_means, width, yerr=test_time_std, label='Inference Time', color='crimson')\n",
    "\n",
    "# Add some text for labels, title and custom x-axis tick labels, etc.\n",
    "ax.set_ylabel('Testing Time (seconds)')\n",
    "ax.set_title('Time taken on prediction')\n",
    "ax.set_xticks(index)\n",
    "ax.set_xticklabels(('MLP', 'CNN', 'LSTM'))\n",
    "ax.legend()\n",
    "plt.legend(bbox_to_anchor=(1,1))\n",
    "\n",
    "plot_helper(test_rect, \"left\",percentage=False)\n",
    "fig.tight_layout()\n",
    "\n",
    "plt.savefig(\"test_time.pdf\")\n",
    "plt.savefig(\"test_time.png\")\n",
    "plt.show()"
   ]
  },
  {
   "cell_type": "code",
   "execution_count": null,
   "id": "76bdbd37",
   "metadata": {},
   "outputs": [],
   "source": []
  }
 ],
 "metadata": {
  "kernelspec": {
   "display_name": "Python 3 (ipykernel)",
   "language": "python",
   "name": "python3"
  },
  "language_info": {
   "codemirror_mode": {
    "name": "ipython",
    "version": 3
   },
   "file_extension": ".py",
   "mimetype": "text/x-python",
   "name": "python",
   "nbconvert_exporter": "python",
   "pygments_lexer": "ipython3",
   "version": "3.9.7"
  },
  "widgets": {
   "application/vnd.jupyter.widget-state+json": {
    "state": {},
    "version_major": 2,
    "version_minor": 0
   }
  }
 },
 "nbformat": 4,
 "nbformat_minor": 5
}
